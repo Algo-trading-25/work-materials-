{
 "cells": [
  {
   "cell_type": "code",
   "execution_count": 4,
   "id": "255023d7-1b67-476e-b8a5-75df4f4b6bc0",
   "metadata": {},
   "outputs": [
    {
     "name": "stdout",
     "output_type": "stream",
     "text": [
      "Requirement already satisfied: yfinance in ./miniconda3/lib/python3.13/site-packages (0.2.61)\n",
      "Requirement already satisfied: pandas>=1.3.0 in ./miniconda3/lib/python3.13/site-packages (from yfinance) (2.2.3)\n",
      "Requirement already satisfied: numpy>=1.16.5 in ./miniconda3/lib/python3.13/site-packages (from yfinance) (2.2.6)\n",
      "Requirement already satisfied: requests>=2.31 in ./miniconda3/lib/python3.13/site-packages (from yfinance) (2.32.3)\n",
      "Requirement already satisfied: multitasking>=0.0.7 in ./miniconda3/lib/python3.13/site-packages (from yfinance) (0.0.11)\n",
      "Requirement already satisfied: platformdirs>=2.0.0 in ./miniconda3/lib/python3.13/site-packages (from yfinance) (4.3.7)\n",
      "Requirement already satisfied: pytz>=2022.5 in ./miniconda3/lib/python3.13/site-packages (from yfinance) (2025.2)\n",
      "Requirement already satisfied: frozendict>=2.3.4 in ./miniconda3/lib/python3.13/site-packages (from yfinance) (2.4.2)\n",
      "Requirement already satisfied: peewee>=3.16.2 in ./miniconda3/lib/python3.13/site-packages (from yfinance) (3.18.1)\n",
      "Requirement already satisfied: beautifulsoup4>=4.11.1 in ./miniconda3/lib/python3.13/site-packages (from yfinance) (4.12.3)\n",
      "Requirement already satisfied: curl_cffi>=0.7 in ./miniconda3/lib/python3.13/site-packages (from yfinance) (0.11.1)\n",
      "Requirement already satisfied: protobuf>=3.19.0 in ./miniconda3/lib/python3.13/site-packages (from yfinance) (6.31.1)\n",
      "Requirement already satisfied: websockets>=13.0 in ./miniconda3/lib/python3.13/site-packages (from yfinance) (15.0.1)\n",
      "Requirement already satisfied: soupsieve>1.2 in ./miniconda3/lib/python3.13/site-packages (from beautifulsoup4>=4.11.1->yfinance) (2.5)\n",
      "Requirement already satisfied: cffi>=1.12.0 in ./miniconda3/lib/python3.13/site-packages (from curl_cffi>=0.7->yfinance) (1.17.1)\n",
      "Requirement already satisfied: certifi>=2024.2.2 in ./miniconda3/lib/python3.13/site-packages (from curl_cffi>=0.7->yfinance) (2025.4.26)\n",
      "Requirement already satisfied: python-dateutil>=2.8.2 in ./miniconda3/lib/python3.13/site-packages (from pandas>=1.3.0->yfinance) (2.9.0.post0)\n",
      "Requirement already satisfied: tzdata>=2022.7 in ./miniconda3/lib/python3.13/site-packages (from pandas>=1.3.0->yfinance) (2025.2)\n",
      "Requirement already satisfied: charset-normalizer<4,>=2 in ./miniconda3/lib/python3.13/site-packages (from requests>=2.31->yfinance) (3.3.2)\n",
      "Requirement already satisfied: idna<4,>=2.5 in ./miniconda3/lib/python3.13/site-packages (from requests>=2.31->yfinance) (3.7)\n",
      "Requirement already satisfied: urllib3<3,>=1.21.1 in ./miniconda3/lib/python3.13/site-packages (from requests>=2.31->yfinance) (2.3.0)\n",
      "Requirement already satisfied: pycparser in ./miniconda3/lib/python3.13/site-packages (from cffi>=1.12.0->curl_cffi>=0.7->yfinance) (2.21)\n",
      "Requirement already satisfied: six>=1.5 in ./miniconda3/lib/python3.13/site-packages (from python-dateutil>=2.8.2->pandas>=1.3.0->yfinance) (1.17.0)\n"
     ]
    }
   ],
   "source": [
    "!pip install yfinance\n",
    "\n",
    "import yfinance as yf\n",
    "import pandas as pd\n",
    "from curl_cffi import requests\n",
    "\n",
    "session = requests.Session(impersonate=\"chrome\")"
   ]
  },
  {
   "cell_type": "code",
   "execution_count": 15,
   "id": "c886d974-c14f-4dee-b37b-7b3f7440ffaf",
   "metadata": {},
   "outputs": [
    {
     "name": "stdout",
     "output_type": "stream",
     "text": [
      "<class 'pandas.core.frame.DataFrame'>\n",
      "RangeIndex: 7550 entries, 0 to 7549\n",
      "Data columns (total 8 columns):\n",
      " #   Column        Non-Null Count  Dtype  \n",
      "---  ------        --------------  -----  \n",
      " 0   Date          7550 non-null   object \n",
      " 1   Open          7550 non-null   float64\n",
      " 2   High          7550 non-null   float64\n",
      " 3   Low           7550 non-null   float64\n",
      " 4   Close         7550 non-null   float64\n",
      " 5   Volume        7550 non-null   int64  \n",
      " 6   Dividends     7550 non-null   float64\n",
      " 7   Stock Splits  7550 non-null   float64\n",
      "dtypes: float64(6), int64(1), object(1)\n",
      "memory usage: 472.0+ KB\n"
     ]
    }
   ],
   "source": [
    "\n",
    "TARGET_STOCKS = [\n",
    "    'INTC',   # Intel Corporation\n",
    "    'PLTR',   # Palantir Technologies\n",
    "    'AAPL',   # Apple Inc.\n",
    "    'NVDA',   # NVIDIA Corporation\n",
    "    'TSLA',   # Tesla Inc.\n",
    "    'MSFT',   # Microsoft Corporation\n",
    "    'AMZN',   # Amazon.com Inc.\n",
    "    'GOOGL',  # Alphabet Inc.\n",
    "    'RIOT',   # Riot Blockchain Inc.\n",
    "    'SOFI'    # SoFi Technologies Inc.\n",
    "]\n",
    "\n",
    "ticker = yf.Ticker('MSFT', session=session)\n",
    "df=ticker.history(period='30y', interval='1d')\n",
    "df.to_csv('msft-30yr-data.csv')\n",
    "\n",
    "df = pd.read_csv('msft-30yr-data.csv')\n",
    "df.info()"
   ]
  },
  {
   "cell_type": "code",
   "execution_count": 5,
   "id": "449ac01b-7d8d-46b9-b9a5-762c5e7095c3",
   "metadata": {},
   "outputs": [],
   "source": [
    "file=\"MSFT-3oyr-data.csv\"\n",
    "df.to_csv(file)"
   ]
  },
  {
   "cell_type": "code",
   "execution_count": 17,
   "id": "4ccd58ef-35ef-450b-bc73-8de5b6218bbd",
   "metadata": {},
   "outputs": [
    {
     "name": "stderr",
     "output_type": "stream",
     "text": [
      "[*********************100%***********************]  10 of 10 completed\n",
      "/var/folders/s4/ltdhgr6d5nlgnqb60vkcr5700000gn/T/ipykernel_1642/4046424159.py:13: FutureWarning: The previous implementation of stack is deprecated and will be removed in a future version of pandas. See the What's New notes for pandas 2.1.0 for details. Specify future_stack=True to adopt the new implementation and silence this warning.\n",
      "  df = df.stack(level='Ticker').reset_index()\n"
     ]
    }
   ],
   "source": [
    "df = yf.download([\n",
    "    'INTC',   # Intel Corporation\n",
    "    'PLTR',   # Palantir Technologies\n",
    "    'AAPL',   # Apple Inc.\n",
    "    'NVDA',   # NVIDIA Corporation\n",
    "    'TSLA',   # Tesla Inc.\n",
    "    'MSFT',   # Microsoft Corporation\n",
    "    'AMZN',   # Amazon.com Inc.\n",
    "    'GOOGL',  # Alphabet Inc.\n",
    "    'RIOT',   # Riot Blockchain Inc.\n",
    "    'SOFI'    # SoFi Technologies Inc.\n",
    "])\n",
    "df = df.stack(level='Ticker').reset_index()\n"
   ]
  },
  {
   "cell_type": "code",
   "execution_count": 18,
   "id": "89fe28f6-553e-4e6e-891a-c39d8c8fe501",
   "metadata": {},
   "outputs": [
    {
     "name": "stdout",
     "output_type": "stream",
     "text": [
      "<class 'pandas.core.frame.DataFrame'>\n",
      "RangeIndex: 59856 entries, 0 to 59855\n",
      "Data columns (total 7 columns):\n",
      " #   Column  Non-Null Count  Dtype         \n",
      "---  ------  --------------  -----         \n",
      " 0   Date    59856 non-null  datetime64[ns]\n",
      " 1   Ticker  59856 non-null  object        \n",
      " 2   Close   59856 non-null  float64       \n",
      " 3   High    59856 non-null  float64       \n",
      " 4   Low     59856 non-null  float64       \n",
      " 5   Open    59856 non-null  float64       \n",
      " 6   Volume  59856 non-null  float64       \n",
      "dtypes: datetime64[ns](1), float64(5), object(1)\n",
      "memory usage: 3.2+ MB\n"
     ]
    }
   ],
   "source": [
    "df.info()\n"
   ]
  },
  {
   "cell_type": "code",
   "execution_count": 19,
   "id": "4e9ab87a-785d-4138-a087-d8f5ce109ccf",
   "metadata": {},
   "outputs": [],
   "source": [
    "file=\"data-corrected.csv\"\n",
    "df.to_csv(file)"
   ]
  },
  {
   "cell_type": "code",
   "execution_count": 20,
   "id": "d14ce330-f683-4cf0-a80f-cfe4885ec8f2",
   "metadata": {},
   "outputs": [],
   "source": [
    "import yfinance as yf\n",
    "import pandas as pd\n",
    "\n",
    "TARGET_STOCKS = [\n",
    "    'INTC', 'PLTR', 'AAPL', 'NVDA', 'TSLA',\n",
    "    'MSFT', 'AMZN', 'GOOGL', 'RIOT', 'SOFI'\n",
    "]\n",
    "\n",
    "for ticker_symbol in TARGET_STOCKS:\n",
    "    ticker = yf.Ticker(ticker_symbol)\n",
    "    df = ticker.history(period='30y', interval='1d')\n",
    "    df.to_csv(f'{ticker_symbol}-30yr-data.csv')\n"
   ]
  },
  {
   "cell_type": "code",
   "execution_count": 21,
   "id": "06470e83-0ff5-4934-8ac6-ecbcbf001e54",
   "metadata": {},
   "outputs": [
    {
     "name": "stdout",
     "output_type": "stream",
     "text": [
      "                        Date      Open      High       Low     Close  \\\n",
      "0  1995-06-19 00:00:00-04:00  4.119560  4.374831  4.110757  4.348424   \n",
      "1  1995-06-20 00:00:00-04:00  4.462855  4.586090  4.410040  4.577287   \n",
      "2  1995-06-21 00:00:00-04:00  4.656510  4.660912  4.462856  4.482661   \n",
      "3  1995-06-22 00:00:00-04:00  4.498067  4.634506  4.474960  4.603696   \n",
      "4  1995-06-23 00:00:00-04:00  4.603694  4.674114  4.568484  4.621299   \n",
      "\n",
      "      Volume  Dividends  Stock Splits Ticker  \n",
      "0  127876000        0.0           2.0   INTC  \n",
      "1  141030400        0.0           0.0   INTC  \n",
      "2  119708800        0.0           0.0   INTC  \n",
      "3   70946400        0.0           0.0   INTC  \n",
      "4   52727200        0.0           0.0   INTC  \n"
     ]
    }
   ],
   "source": [
    "import pandas as pd\n",
    "\n",
    "dfs = []\n",
    "for ticker_symbol in TARGET_STOCKS:\n",
    "    df = pd.read_csv(f'{ticker_symbol}-30yr-data.csv')\n",
    "    df['Ticker'] = ticker_symbol  # Add a column to identify the ticker\n",
    "    dfs.append(df)\n",
    "\n",
    "combined_df = pd.concat(dfs)\n",
    "print(combined_df.head())\n"
   ]
  },
  {
   "cell_type": "code",
   "execution_count": 23,
   "id": "1d34e58c-5d54-4114-995c-345887438e85",
   "metadata": {},
   "outputs": [],
   "source": [
    "file=(\"final-dataset.csv\")\n",
    "combined_df.to_csv(file)"
   ]
  },
  {
   "cell_type": "code",
   "execution_count": null,
   "id": "3414a343-3a66-43f7-abf8-a7da8671d405",
   "metadata": {},
   "outputs": [],
   "source": []
  }
 ],
 "metadata": {
  "kernelspec": {
   "display_name": "Python 3 (ipykernel)",
   "language": "python",
   "name": "python3"
  },
  "language_info": {
   "codemirror_mode": {
    "name": "ipython",
    "version": 3
   },
   "file_extension": ".py",
   "mimetype": "text/x-python",
   "name": "python",
   "nbconvert_exporter": "python",
   "pygments_lexer": "ipython3",
   "version": "3.13.2"
  }
 },
 "nbformat": 4,
 "nbformat_minor": 5
}
