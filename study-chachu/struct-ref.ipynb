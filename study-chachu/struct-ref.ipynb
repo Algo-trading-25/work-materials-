{
 "cells": [
  {
   "cell_type": "code",
   "execution_count": 1,
   "id": "54b8ecb4-d2e5-40cf-aa6e-b5f9d7b880be",
   "metadata": {},
   "outputs": [],
   "source": [
    "# sector select -> tech already selected by us  \n",
    "# 2 tickers -> corr [pearson corr]\n",
    "# -1 - 0 - +1\n",
    "# tech stock crrlxns together \n",
    "# outliers detect here ^ \n",
    "# --------- point check pt -----------\n",
    "# log val -> normalise standardise -> RSI part [technical indicators][time-series features]\n",
    "# trend , momentum , \n",
    "# clustering [modelling] -> basic data / time - series features / transformed vals \n",
    "\n",
    "\n",
    "# time attention \n"
   ]
  },
  {
   "cell_type": "code",
   "execution_count": 2,
   "id": "baceeaca-9b2d-4b9e-b562-30f78dcca429",
   "metadata": {},
   "outputs": [],
   "source": [
    "#take a sector\n",
    "# take n stock of the sector \n",
    "# repeat 2 to clustering step check outputs \n",
    "# extract infor from the otpts \n"
   ]
  },
  {
   "cell_type": "code",
   "execution_count": 1,
   "id": "418bd699-ceb0-4a64-be73-169f90059320",
   "metadata": {},
   "outputs": [],
   "source": [
    "# say 6 cols -> momentum, rsi, technical indicators \n",
    "# this type -> multivariate -> PCA viable "
   ]
  },
  {
   "cell_type": "code",
   "execution_count": null,
   "id": "d634b3cf-44df-4a72-b750-1f2f686cb7e1",
   "metadata": {},
   "outputs": [],
   "source": [
    "######BEST PRACTICES###### \n",
    "# 2 hats-> system design/architect, dev\n",
    "####sys arch hat###  -> make your own flow \n",
    "# modular programming, oops, kiss\n",
    "# brainstorm me n ai bef code \n",
    "\n",
    "#### dev stage hat ####\n",
    "#kiss code struct\n",
    "#data struct -> import wrangle api scaling outlier handling then feature engineering corr clsutering "
   ]
  }
 ],
 "metadata": {
  "kernelspec": {
   "display_name": "Python 3 (ipykernel)",
   "language": "python",
   "name": "python3"
  },
  "language_info": {
   "codemirror_mode": {
    "name": "ipython",
    "version": 3
   },
   "file_extension": ".py",
   "mimetype": "text/x-python",
   "name": "python",
   "nbconvert_exporter": "python",
   "pygments_lexer": "ipython3",
   "version": "3.13.2"
  }
 },
 "nbformat": 4,
 "nbformat_minor": 5
}
